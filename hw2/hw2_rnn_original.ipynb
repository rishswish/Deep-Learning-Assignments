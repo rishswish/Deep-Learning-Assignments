{
 "cells": [
  {
   "cell_type": "markdown",
   "metadata": {
    "id": "PtcBjMq7YV3f"
   },
   "source": [
    "\n",
    "\n",
    "# Homework 2 - Recurrent Neural Networks"
   ]
  },
  {
   "cell_type": "markdown",
   "metadata": {
    "id": "Rn-cOk1iZTtR"
   },
   "source": [
    "In this part of the homework we are going to work with Recurrent Neural Networks, in particular GRU. One of the greatest things that Recurrent Neural Networks can do when working with sequences is retaining data from several timesteps in the past. We are going to explore that property by constructing an 'echo' Recurrent Neural Network.\n",
    "\n",
    "The goal here is to make a model that given a sequence of letters or digits will output that same sequence, but with a certain delay. Let's say the input is a string 'abacaba', we want the model to not output anything for 3 steps (delay length), and then output the original string step by step, except the last 3 characters. So, target output is then 'XXXabac', where 'X' is empty output.\n",
    "\n",
    "This is similar to [this notebook](https://github.com/Atcold/pytorch-Deep-Learning/blob/master/09-echo_data.ipynb) (which you should refer to when doing this assignment), except we're working not with a binary string, but with a sequence of integers between 0 and some N. In our case N is 26, which is the number of letters in the alphabet."
   ]
  },
  {
   "cell_type": "markdown",
   "metadata": {
    "id": "npLlE973as6x"
   },
   "source": [
    "## Dataset\n",
    "\n",
    "Let's implement the dataset. In our case, the data is basically infinite, as we can always generate more examples on the fly, so there's no need to load it from disk."
   ]
  },
  {
   "cell_type": "code",
   "execution_count": 1,
   "metadata": {
    "id": "mkEEMyvzIMRx"
   },
   "outputs": [],
   "source": [
    "import random\n",
    "import string\n",
    "\n",
    "import torch\n",
    "\n",
    "# Max value of the generated integer. 26 is chosen becuase it's\n",
    "# the number of letters in English alphabet.\n",
    "N = 26\n",
    "\n",
    "\n",
    "def idx_to_onehot(x, k=N+1):\n",
    "  \"\"\" Converts the generated integers to one-hot vectors \"\"\"\n",
    "  ones = torch.sparse.torch.eye(k)\n",
    "  shape = x.shape\n",
    "  res = ones.index_select(0, x.view(-1).type(torch.int64))\n",
    "  return res.view(*shape, res.shape[-1])\n",
    "\n",
    "\n",
    "class EchoDataset(torch.utils.data.IterableDataset):\n",
    "\n",
    "  def __init__(self, delay=4, seq_length=15, size=1000):\n",
    "    self.delay = delay\n",
    "    self.seq_length = seq_length\n",
    "    self.size = size\n",
    "  \n",
    "  def __len__(self):\n",
    "    return self.size\n",
    "\n",
    "  def __iter__(self):\n",
    "    \"\"\" Iterable dataset doesn't have to implement __getitem__.\n",
    "        Instead, we only need to implement __iter__ to return\n",
    "        an iterator (or generator).\n",
    "    \"\"\"\n",
    "    for _ in range(self.size):\n",
    "      seq = torch.tensor([random.choice(range(1, N + 1)) for i in range(self.seq_length)], dtype=torch.int64)\n",
    "      result = torch.cat((torch.zeros(self.delay), seq[:self.seq_length - self.delay])).type(torch.int64)\n",
    "      yield seq, result\n",
    "\n",
    "DELAY = 4\n",
    "DATASET_SIZE = 200000\n",
    "ds = EchoDataset(delay=DELAY, size=DATASET_SIZE)"
   ]
  },
  {
   "cell_type": "markdown",
   "metadata": {
    "id": "nNrZqYURcKSl"
   },
   "source": [
    "## Model\n",
    "\n",
    "Now, we want to implement the model. For our purposes, we want to use GRU. The architecture consists of GRU and a decoder. Decoder is responsible for decoding the GRU hidden state to yield a predicting for the next output. The parts you are responsible for filling with your code are marked with `TODO`. "
   ]
  },
  {
   "cell_type": "code",
   "execution_count": 2,
   "metadata": {
    "id": "nigN_o4Mb9Nx"
   },
   "outputs": [],
   "source": [
    "class GRUMemory(torch.nn.Module):\n",
    "\n",
    "  def __init__(self, hidden_size):\n",
    "    super().__init__()\n",
    "    #TODO: initialize your submodules\n",
    "\n",
    "  def forward(self, x):\n",
    "    # inputs: x - input tensor of shape (batch_size, seq_length, N+1)\n",
    "    # returns:\n",
    "    # logits (scores for softmax) of shape (batch size, seq_length, N + 1)\n",
    "    # TODO implement forward pass\n",
    "    pass\n",
    "\n",
    "  @torch.no_grad()\n",
    "  def test_run(self, s):\n",
    "    # This function accepts one string s containing lowercase characters a-z. \n",
    "    # You need to map those characters to one-hot encodings, \n",
    "    # then get the result from your network, and then convert the output \n",
    "    # back to a string of the same length, with 0 mapped to ' ', \n",
    "    # and 1-26 mapped to a-z.\n",
    "\n",
    "    # TODO\n",
    "    pass"
   ]
  },
  {
   "cell_type": "markdown",
   "metadata": {
    "id": "A9whwmVu9OIx"
   },
   "source": [
    "## Training\n",
    "Below you need to implement the training of the model. We give you more freedom as for the implementation. The two limitations are that it has to execute within 10 minutes, and that error rate should be below 1%."
   ]
  },
  {
   "cell_type": "code",
   "execution_count": 3,
   "metadata": {
    "id": "lUZkeRnVTNzG"
   },
   "outputs": [],
   "source": [
    "def test_model(model, sequence_length=15):\n",
    "  \"\"\"\n",
    "  This is the test function that runs 100 different strings through your model,\n",
    "  and checks the error rate.\n",
    "  \"\"\"\n",
    "  total = 0\n",
    "  correct = 0\n",
    "  for i in range(500):\n",
    "    s = ''.join([random.choice(string.ascii_lowercase) for i in range(random.randint(15, 25))])\n",
    "    result = model.test_run(s)\n",
    "    for c1, c2 in zip(s[:-D], result[D:]):\n",
    "      correct += int(c1 == c2)\n",
    "    total += len(s) - D\n",
    "\n",
    "  return correct / total"
   ]
  },
  {
   "cell_type": "code",
   "execution_count": 4,
   "metadata": {
    "id": "9lV9BscxCCAI"
   },
   "outputs": [
    {
     "ename": "AttributeError",
     "evalue": "'NoneType' object has no attribute 'test_run'",
     "output_type": "error",
     "traceback": [
      "\u001b[0;31m---------------------------------------------------------------------------\u001b[0m",
      "\u001b[0;31mAttributeError\u001b[0m                            Traceback (most recent call last)",
      "Cell \u001b[0;32mIn [4], line 9\u001b[0m\n\u001b[1;32m      7\u001b[0m end_time \u001b[38;5;241m=\u001b[39m time\u001b[38;5;241m.\u001b[39mtime()\n\u001b[1;32m      8\u001b[0m duration \u001b[38;5;241m=\u001b[39m end_time \u001b[38;5;241m-\u001b[39m start_time\n\u001b[0;32m----> 9\u001b[0m accuracy \u001b[38;5;241m=\u001b[39m test_model(model)\n\u001b[1;32m     10\u001b[0m \u001b[38;5;28;01massert\u001b[39;00m duration \u001b[38;5;241m<\u001b[39m \u001b[38;5;241m600\u001b[39m, \u001b[38;5;124m'\u001b[39m\u001b[38;5;124mexecution took f\u001b[39m\u001b[38;5;132;01m{duration:.2f}\u001b[39;00m\u001b[38;5;124m seconds, which longer than 10 mins\u001b[39m\u001b[38;5;124m'\u001b[39m\n\u001b[1;32m     11\u001b[0m \u001b[38;5;28;01massert\u001b[39;00m accuracy \u001b[38;5;241m>\u001b[39m \u001b[38;5;241m0.99\u001b[39m, \u001b[38;5;124mf\u001b[39m\u001b[38;5;124m'\u001b[39m\u001b[38;5;124maccuracy is too low, got \u001b[39m\u001b[38;5;132;01m{\u001b[39;00maccuracy\u001b[38;5;132;01m}\u001b[39;00m\u001b[38;5;124m, need 0.99\u001b[39m\u001b[38;5;124m'\u001b[39m\n",
      "Cell \u001b[0;32mIn [3], line 10\u001b[0m, in \u001b[0;36mtest_model\u001b[0;34m(model, sequence_length)\u001b[0m\n\u001b[1;32m      8\u001b[0m \u001b[38;5;28;01mfor\u001b[39;00m i \u001b[38;5;129;01min\u001b[39;00m \u001b[38;5;28mrange\u001b[39m(\u001b[38;5;241m500\u001b[39m):\n\u001b[1;32m      9\u001b[0m   s \u001b[38;5;241m=\u001b[39m \u001b[38;5;124m'\u001b[39m\u001b[38;5;124m'\u001b[39m\u001b[38;5;241m.\u001b[39mjoin([random\u001b[38;5;241m.\u001b[39mchoice(string\u001b[38;5;241m.\u001b[39mascii_lowercase) \u001b[38;5;28;01mfor\u001b[39;00m i \u001b[38;5;129;01min\u001b[39;00m \u001b[38;5;28mrange\u001b[39m(random\u001b[38;5;241m.\u001b[39mrandint(\u001b[38;5;241m15\u001b[39m, \u001b[38;5;241m25\u001b[39m))])\n\u001b[0;32m---> 10\u001b[0m   result \u001b[38;5;241m=\u001b[39m \u001b[43mmodel\u001b[49m\u001b[38;5;241;43m.\u001b[39;49m\u001b[43mtest_run\u001b[49m(s)\n\u001b[1;32m     11\u001b[0m   \u001b[38;5;28;01mfor\u001b[39;00m c1, c2 \u001b[38;5;129;01min\u001b[39;00m \u001b[38;5;28mzip\u001b[39m(s[:\u001b[38;5;241m-\u001b[39mD], result[D:]):\n\u001b[1;32m     12\u001b[0m     correct \u001b[38;5;241m+\u001b[39m\u001b[38;5;241m=\u001b[39m \u001b[38;5;28mint\u001b[39m(c1 \u001b[38;5;241m==\u001b[39m c2)\n",
      "\u001b[0;31mAttributeError\u001b[0m: 'NoneType' object has no attribute 'test_run'"
     ]
    }
   ],
   "source": [
    "import time\n",
    "start_time = time.time()\n",
    "\n",
    "# TODO\n",
    "model = None\n",
    "\n",
    "end_time = time.time()\n",
    "duration = end_time - start_time\n",
    "accuracy = test_model(model)\n",
    "assert duration < 600, 'execution took f{duration:.2f} seconds, which longer than 10 mins'\n",
    "assert accuracy > 0.99, f'accuracy is too low, got {accuracy}, need 0.99'\n",
    "print('tests passed')"
   ]
  },
  {
   "cell_type": "markdown",
   "metadata": {
    "id": "sB0EVNBtDhpN"
   },
   "source": [
    "## Variable delay model\n",
    "\n",
    "Now, to make this more complicated, we want to have varialbe delay. So, now, the goal is to transform a sequence of pairs (character, delay) into a character sequence with given delay. Delay is constant within one sequence."
   ]
  },
  {
   "cell_type": "markdown",
   "metadata": {
    "id": "3i_iwX_AEOCH"
   },
   "source": [
    "### Dataset\n",
    "As before, we first implement the dataset:"
   ]
  },
  {
   "cell_type": "code",
   "execution_count": null,
   "metadata": {
    "id": "E4G5b8kuEUEd"
   },
   "outputs": [],
   "source": [
    "class VariableDelayEchoDataset(torch.utils.data.IterableDataset):\n",
    "\n",
    "  def __init__(self, max_delay=8, seq_length=20, size=1000):\n",
    "    self.max_delay = max_delay\n",
    "    self.seq_length = seq_length\n",
    "    self.size = size\n",
    "  \n",
    "  def __len__(self):\n",
    "    return self.size\n",
    "\n",
    "  def __iter__(self):\n",
    "    for _ in range(self.size):\n",
    "      seq = torch.tensor([random.choice(range(1, N + 1)) for i in range(self.seq_length)], dtype=torch.int64)\n",
    "      delay = random.randint(0, self.max_delay)\n",
    "      result = torch.cat((torch.zeros(delay), seq[:self.seq_length - delay])).type(torch.int64)\n",
    "      yield seq, delay, result"
   ]
  },
  {
   "cell_type": "markdown",
   "metadata": {
    "id": "oTRVOND3HEJZ"
   },
   "source": [
    "### Model\n",
    "\n",
    "And the model."
   ]
  },
  {
   "cell_type": "code",
   "execution_count": null,
   "metadata": {
    "id": "IYolFIB8Hg0U"
   },
   "outputs": [],
   "source": [
    "class VariableDelayGRUMemory(torch.nn.Module):\n",
    "\n",
    "  def __init__(self, hidden_size, max_delay):\n",
    "    super().__init__()\n",
    "    #TODO\n",
    "\n",
    "  def forward(self, x, delays):\n",
    "    # inputs:\n",
    "    # x - tensor of shape (batch size, seq length, N + 1)\n",
    "    # delays - tensor of shape (batch size)\n",
    "    # returns:\n",
    "    # logits (scores for softmax) of shape (batch size, seq_length, N + 1)\n",
    "\n",
    "    # TODO\n",
    "    pass\n",
    "\n",
    "  @torch.no_grad()\n",
    "  def test_run(self, s, delay):\n",
    "    # This function accepts one string s containing lowercase characters a-z, \n",
    "    # and a delay - the desired output delay.\n",
    "    # You need to map those characters to one-hot encodings, \n",
    "    # then get the result from your network, and then convert the output \n",
    "    # back to a string of the same length, with 0 mapped to ' ', \n",
    "    # and 1-26 mapped to a-z.\n",
    "\n",
    "    # TODO\n",
    "    pass\n"
   ]
  },
  {
   "cell_type": "markdown",
   "metadata": {
    "id": "riu3qHWgKjsx"
   },
   "source": [
    "### Train\n",
    "\n",
    "As before, you're free to do what you want, as long as training finishes within 10 minutes and accuracy is above 0.99 for delays between 0 and 8."
   ]
  },
  {
   "cell_type": "code",
   "execution_count": null,
   "metadata": {
    "id": "4FZHojnGO3aw"
   },
   "outputs": [],
   "source": [
    "def test_variable_delay_model(model, seq_length=20):\n",
    "  \"\"\"\n",
    "  This is the test function that runs 100 different strings through your model,\n",
    "  and checks the error rate.\n",
    "  \"\"\"\n",
    "  total = 0\n",
    "  correct = 0\n",
    "  for i in range(500):\n",
    "    s = ''.join([random.choice(string.ascii_lowercase) for i in range(seq_length)])\n",
    "    d = random.randint(0, model.max_delay)\n",
    "    result = model.test_run(s, d)\n",
    "    if d > 0:\n",
    "      z = zip(s[:-d], result[d:])\n",
    "    else:\n",
    "      z = zip(s, result)\n",
    "    for c1, c2 in z:\n",
    "      correct += int(c1 == c2)\n",
    "    total += len(s) - d\n",
    "\n",
    "  return correct / total"
   ]
  },
  {
   "cell_type": "code",
   "execution_count": null,
   "metadata": {
    "id": "YJ18Ef6vKi4s"
   },
   "outputs": [],
   "source": [
    "import time\n",
    "start_time = time.time()\n",
    "\n",
    "MAX_DELAY = 8\n",
    "SEQ_LENGTH = 20\n",
    "\n",
    "# TODO: implement model training here.\n",
    "model = None\n",
    "\n",
    "\n",
    "end_time = time.time()\n",
    "assert end_time - start_time < 600, 'executing took longer than 10 mins'\n",
    "assert test_variable_delay_model(model) > 0.99, 'accuracy is too low'\n",
    "print('tests passed')"
   ]
  }
 ],
 "metadata": {
  "colab": {
   "collapsed_sections": [],
   "name": "hw2_rnn.ipynb",
   "provenance": []
  },
  "kernelspec": {
   "display_name": "Python 3 (ipykernel)",
   "language": "python",
   "name": "python3"
  },
  "language_info": {
   "codemirror_mode": {
    "name": "ipython",
    "version": 3
   },
   "file_extension": ".py",
   "mimetype": "text/x-python",
   "name": "python",
   "nbconvert_exporter": "python",
   "pygments_lexer": "ipython3",
   "version": "3.9.13"
  }
 },
 "nbformat": 4,
 "nbformat_minor": 1
}
